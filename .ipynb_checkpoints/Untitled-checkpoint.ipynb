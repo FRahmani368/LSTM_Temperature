{
 "cells": [
  {
   "cell_type": "code",
   "execution_count": 33,
   "metadata": {},
   "outputs": [],
   "source": [
    "import sys\n",
    "sys.path.append('C://Users//fzr5082//Desktop//hydroDL-dev-master//hydroDL-dev-master')   #('../')\n",
    "from hydroDL import master, utils\n",
    "from hydroDL.master import default\n",
    "from hydroDL.post import plot, stat\n",
    "import matplotlib.pyplot as plt\n",
    "from hydroDL.data import camels\n",
    "from hydroDL.model import rnn, crit, train\n",
    "\n",
    "import numpy as np\n",
    "import os\n",
    "import torch"
   ]
  },
  {
   "cell_type": "code",
   "execution_count": 34,
   "metadata": {},
   "outputs": [],
   "source": [
    "import pandas as pd"
   ]
  },
  {
   "cell_type": "code",
   "execution_count": 103,
   "metadata": {},
   "outputs": [],
   "source": [
    "# Options for different interface\n",
    "interfaceOpt = 1\n",
    "# ==1 is the more interpretable version, explicitly load data, model and loss, and train the model.\n",
    "# ==0 is the \"pro\" version, efficiently train different models based on the defined dictionary variables.\n",
    "# the results are identical.\n",
    "\n",
    "# Options for training and testing\n",
    "# 0: train base model without DI\n",
    "# 1: train DI model\n",
    "# 0,1: do both at the same time\n",
    "# 2: test trained models\n",
    "Action = [0,1]\n",
    "\n",
    "# Set hyperparameters\n",
    "EPOCH = 200\n",
    "BATCH_SIZE = 100\n",
    "RHO = 365\n",
    "HIDDENSIZE = 256\n",
    "saveEPOCH = 50\n",
    "Ttrain = [19851001, 19951001]  # Training period"
   ]
  },
  {
   "cell_type": "code",
   "execution_count": 126,
   "metadata": {},
   "outputs": [],
   "source": [
    "absRoot=os.getcwd()\n"
   ]
  },
  {
   "cell_type": "code",
   "execution_count": 127,
   "metadata": {},
   "outputs": [],
   "source": [
    "# Define root directory of database and output\n",
    "# Modify this based on your own location\n",
    "rootDatabase = os.path.join(os.path.sep, absRoot, 'scratch', 'Camels')  # CAMELS dataset root directory: /scratch/Camels\n",
    "rootOut = os.path.join(os.path.sep, 'data', 'rnnStreamflow')  # Model output root directory: /data/rnnStreamflow\n",
    "camels.initcamels(rootDatabase)  # initialize three camels module-scope variables in camels.py: dirDB, gageDict, statDict"
   ]
  },
  {
   "cell_type": "code",
   "execution_count": 128,
   "metadata": {},
   "outputs": [],
   "source": [
    "# Define all the configurations into dictionary variables\n",
    "# three purposes using these dictionaries. 1. saved as configuration logging file. 2. for future testing. 3. can also\n",
    "# be used to directly train the model when interfaceOpt == 0\n",
    "# define dataset\n",
    "optData = default.optDataCamels\n",
    "optData = default.update(optData, tRange=Ttrain)  # Update the training period"
   ]
  },
  {
   "cell_type": "code",
   "execution_count": 129,
   "metadata": {},
   "outputs": [],
   "source": [
    "# define model and update parameters\n",
    "if torch.cuda.is_available():\n",
    "    optModel = default.optLstm\n",
    "else:\n",
    "    optModel = default.update(\n",
    "        default.optLstm,\n",
    "        name='hydroDL.model.rnn.CpuLstmModel')\n",
    "optModel = default.update(default.optLstm, hiddenSize=HIDDENSIZE)"
   ]
  },
  {
   "cell_type": "code",
   "execution_count": 130,
   "metadata": {},
   "outputs": [],
   "source": [
    "# define loss function\n",
    "optLoss = default.optLossRMSE"
   ]
  },
  {
   "cell_type": "code",
   "execution_count": 131,
   "metadata": {},
   "outputs": [],
   "source": [
    "# define training options\n",
    "optTrain = default.update(default.optTrainCamels, miniBatch=[BATCH_SIZE, RHO], nEpoch=EPOCH, saveEpoch=saveEPOCH)"
   ]
  },
  {
   "cell_type": "code",
   "execution_count": 134,
   "metadata": {},
   "outputs": [],
   "source": [
    "# define output folder for model results\n",
    "exp_name = 'CAMELSDemo'\n",
    "exp_disp = 'FirstRun'\n",
    "save_path = os.path.join(absRoot,exp_name, exp_disp, \\\n",
    "            'epochs{}_batch{}_rho{}_hiddensize{}_Tstart{}_Tend{}'.format(optTrain['nEpoch'], optTrain['miniBatch'][0],\n",
    "                                                                          optTrain['miniBatch'][1],\n",
    "                                                                          optModel['hiddenSize'],\n",
    "                                                                          optData['tRange'][0], optData['tRange'][1]))\n",
    "out = os.path.join(rootOut, save_path, 'All-85-95') # output folder to save results"
   ]
  },
  {
   "cell_type": "code",
   "execution_count": 137,
   "metadata": {},
   "outputs": [],
   "source": [
    "# Wrap up all the training configurations to one dictionary in order to save into \"out\" folder\n",
    "masterDict = master.wrapMaster(out, optData, optModel, optLoss, optTrain)"
   ]
  },
  {
   "cell_type": "code",
   "execution_count": null,
   "metadata": {},
   "outputs": [],
   "source": []
  },
  {
   "cell_type": "markdown",
   "metadata": {},
   "source": []
  }
 ],
 "metadata": {
  "kernelspec": {
   "display_name": "Python 3",
   "language": "python",
   "name": "python3"
  },
  "language_info": {
   "codemirror_mode": {
    "name": "ipython",
    "version": 3
   },
   "file_extension": ".py",
   "mimetype": "text/x-python",
   "name": "python",
   "nbconvert_exporter": "python",
   "pygments_lexer": "ipython3",
   "version": "3.7.4"
  }
 },
 "nbformat": 4,
 "nbformat_minor": 2
}
